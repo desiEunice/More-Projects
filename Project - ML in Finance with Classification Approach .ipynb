{
 "cells": [
  {
   "cell_type": "markdown",
   "metadata": {},
   "source": [
    "# Classification techniques in Finance\n",
    "\n",
    "Classification can be effectively used in the risk management and large dataset processing where group information is of particular interest. \\\n",
    "We demonstrate the machine-learning method in finance and show how credit risk categorisation can be easily achieved with classification technique.\n",
    "\n",
    "\n",
    "\n",
    "Consider the following case: financial institution has large portfolio of loans to its clients. It wants to establish the method for assessing the quality of lending portfolio by linking the maturity and credit spread on each loan to internal rating categories. We apply the Classification method to analyse the portfolio and to assign each loan to the rating class. Finally we produce the classified loans status based on the rating grouping."
   ]
  },
  {
   "cell_type": "markdown",
   "metadata": {},
   "source": [
    "## Training set definition\n",
    "The financial institution can define the training set (the template for sample assignment) in the following way:\n",
    "\n",
    "6 Rating categories:\tAAA, AA, A, BBB, BB, B\n",
    "\n",
    "3 maturity sets:\t3 years / 5 years / 10 years\n",
    "\n",
    "Credit spreads for each maturity / rating"
   ]
  },
  {
   "cell_type": "code",
   "execution_count": 11,
   "metadata": {},
   "outputs": [],
   "source": [
    "trainset = { \"AAA\": {3, 50} ,\n",
    "             \"AAA\" : {5, 70} , \n",
    "             \"AAA\" : {10, 85} , \n",
    "             \"AA\" : {3, 85} , \n",
    "             \"AA\" : {5, 145} , \n",
    "             \"AA\" : {10, 200} ,\n",
    "             \"A\" : {3, 120} ,\n",
    "             \"A\" : {5, 200} , \n",
    "             \"A\" : {10, 260} ,\n",
    "             \"BBB\" : {3, 210} , \n",
    "             \"BBB\" : {5, 300} ,\n",
    "             \"BBB\" : {10, 390} , \n",
    "             \"BB\" : {3, 290} , \n",
    "             \"BB\" : {5, 370} , \n",
    "             \"BB\" : {10, 440} , \n",
    "             \"B\" : {3, 360} , \n",
    "             \"B\" : {5, 470} , \n",
    "             \"B\" : {10, 550}  }"
   ]
  },
  {
   "cell_type": "markdown",
   "metadata": {},
   "source": [
    "By isolating credit spreads, we can visualise the training set credit spreads levels below:\n",
    "\n"
   ]
  },
  {
   "cell_type": "code",
   "execution_count": 46,
   "metadata": {},
   "outputs": [
    {
     "data": {
      "image/png": "[encoded data removed]",
      "text/plain": [
       "<Figure size 432x288 with 1 Axes>"
      ]
     },
     "metadata": {
      "needs_background": "light"
     },
     "output_type": "display_data"
    }
   ],
   "source": [
    "import numpy as np\n",
    "n = 6\n",
    "year3 = (50, 85, 120, 210, 290, 360)\n",
    "year5 = (70, 145, 200, 300, 370, 470)\n",
    "year10 = (85, 200, 260, 390, 440, 550)\n",
    "\n",
    "ind = np.arange(n) \n",
    "width = 0.28       \n",
    "plt.bar(ind, year3, width, label='3Y')\n",
    "plt.bar(ind  + width, year5, width,label='5Y')\n",
    "plt.bar( ind + width +width, year10, width,label='10Y')\n",
    "\n",
    "\n",
    "plt.title('Credit spreads per maturity/rating class')\n",
    "plt.xticks(ind + width + width  / 3, ('AAA', 'AA', 'A', 'BBB', 'BB', 'B'))\n",
    "plt.legend(loc='best')\n",
    "plt.show()"
   ]
  },
  {
   "cell_type": "markdown",
   "metadata": {},
   "source": [
    "## Setting the classifier\n",
    "We use the training set defined above to set up the classifier based on similarity measure using k-nearest neighbor method."
   ]
  },
  {
   "cell_type": "markdown",
   "metadata": {},
   "source": [
    "K Nearest Neighbor(KNN) is a very simple, easy to understand, versatile and one of the topmost machine learning algorithms. KNN used in the variety of applications such as finance, healthcare, political science, handwriting detection, image recognition and video recognition. In Credit ratings, financial institutes will predict the credit rating of customers. In loan disbursement, banking institutes will predict whether the loan is safe or risky. In political science, classifying potential voters in two classes will vote or won’t vote. KNN algorithm used for both classification and regression problems. KNN algorithm based on feature similarity approach."
   ]
  },
  {
   "cell_type": "code",
   "execution_count": 184,
   "metadata": {},
   "outputs": [],
   "source": [
    "training_set = np.array([ ['AAA', 3, 50] ,\n",
    "          ['AAA', 5, 70] ,\n",
    "          ['AAA', 10, 85],\n",
    "         ['AA', 3, 85],\n",
    "         ['AA', 5, 145],\n",
    "         ['AA', 10, 200],\n",
    "         ['A', 3, 120],\n",
    "         ['A', 5, 200],\n",
    "         ['A', 10, 260],\n",
    "         ['BBB', 3, 210],\n",
    "         ['BBB', 5, 300],\n",
    "         ['BBB', 10, 390],\n",
    "         ['BB', 3, 290],\n",
    "         ['BB', 5, 370],\n",
    "         ['BB', 10, 440],\n",
    "         ['B', 3, 360],\n",
    "         ['B', 5, 470],\n",
    "         ['B', 10, 550] ])\n",
    "         \n",
    "         \n"
   ]
  },
  {
   "cell_type": "code",
   "execution_count": 220,
   "metadata": {},
   "outputs": [
    {
     "name": "stderr",
     "output_type": "stream",
     "text": [
      "/Users/euniceofori-addo/opt/anaconda3/lib/python3.7/site-packages/sklearn/utils/validation.py:755: FutureWarning: Beginning in version 0.22, arrays of bytes/strings will be converted to decimal numbers if dtype='numeric'. It is recommended that you convert the array to a float dtype before using it in scikit-learn, for example by using your_array = your_array.astype(np.float64).\n",
      "  estimator=estimator)\n",
      "/Users/euniceofori-addo/opt/anaconda3/lib/python3.7/site-packages/sklearn/neighbors/_base.py:399: FutureWarning: Beginning in version 0.22, arrays of bytes/strings will be converted to decimal numbers if dtype='numeric'. It is recommended that you convert the array to a float dtype before using it in scikit-learn, for example by using your_array = your_array.astype(np.float64).\n",
      "  X = check_array(X, accept_sparse='csr')\n"
     ]
    },
    {
     "data": {
      "text/plain": [
       "KNeighborsClassifier(algorithm='auto', leaf_size=30, metric='minkowski',\n",
       "                     metric_params=None, n_jobs=None, n_neighbors=1, p=2,\n",
       "                     weights='uniform')"
      ]
     },
     "execution_count": 220,
     "metadata": {},
     "output_type": "execute_result"
    }
   ],
   "source": [
    "from sklearn.neighbors import KNeighborsClassifier\n",
    "classifier = KNeighborsClassifier(n_neighbors = 1)\n",
    "classifier.fit(training_set[:,1:3], trainingset[:,0])\n"
   ]
  },
  {
   "cell_type": "markdown",
   "metadata": {},
   "source": [
    "## Classifier testing\n",
    "We can test and validate the classifier. \n",
    "\n"
   ]
  },
  {
   "cell_type": "code",
   "execution_count": 188,
   "metadata": {},
   "outputs": [],
   "source": [
    "validation_set = np.array([ ['AAA', 3, 46],\n",
    "                           ['AAA', 5, 18],\n",
    "                           ['AAA', 10, 92],\n",
    "                           ['AA', 3, 91],\n",
    "                           ['AA', 5, 155],\n",
    "                           ['AA', 10, 202],\n",
    "                           ['A', 3, 126],\n",
    "                           ['A', 5, 215],\n",
    "                           ['A', 10, 259],\n",
    "                           ['BBB', 3, 219],\n",
    "                           ['BBB', 5, 311],\n",
    "                           ['BBB', 10, 399],\n",
    "                           ['BB', 3, 292],\n",
    "                           ['BB', 5, 378],\n",
    "                           ['BB', 10, 442],\n",
    "                           ['B', 3, 350],\n",
    "                           ['B', 5, 460],\n",
    "                           ['B', 10, 568]\n",
    "                          \n",
    "                          ]) "
   ]
  },
  {
   "cell_type": "code",
   "execution_count": 192,
   "metadata": {},
   "outputs": [
    {
     "name": "stderr",
     "output_type": "stream",
     "text": [
      "/Users/euniceofori-addo/opt/anaconda3/lib/python3.7/site-packages/sklearn/neighbors/_classification.py:171: FutureWarning: Beginning in version 0.22, arrays of bytes/strings will be converted to decimal numbers if dtype='numeric'. It is recommended that you convert the array to a float dtype before using it in scikit-learn, for example by using your_array = your_array.astype(np.float64).\n",
      "  X = check_array(X, accept_sparse='csr')\n",
      "/Users/euniceofori-addo/opt/anaconda3/lib/python3.7/site-packages/sklearn/neighbors/_base.py:604: FutureWarning: Beginning in version 0.22, arrays of bytes/strings will be converted to decimal numbers if dtype='numeric'. It is recommended that you convert the array to a float dtype before using it in scikit-learn, for example by using your_array = your_array.astype(np.float64).\n",
      "  X = check_array(X, accept_sparse='csr')\n"
     ]
    }
   ],
   "source": [
    "predict = classifier.predict(validation_set[:,1:3])"
   ]
  },
  {
   "cell_type": "code",
   "execution_count": 226,
   "metadata": {},
   "outputs": [
    {
     "name": "stdout",
     "output_type": "stream",
     "text": [
      "['A']\n",
      "['B']\n"
     ]
    }
   ],
   "source": [
    "## Checking the accuracy of prediction\n",
    "print(classifier.predict([[10,259]]))\n",
    "print(classifier.predict([[10, 568]])) # Compare results with dataset in validating_set"
   ]
  },
  {
   "cell_type": "markdown",
   "metadata": {},
   "source": [
    "## Testing accuracy of the classifier\n",
    "To evaluate our model. We use a Confusion Matrix."
   ]
  },
  {
   "cell_type": "code",
   "execution_count": 208,
   "metadata": {
    "scrolled": false
   },
   "outputs": [
    {
     "name": "stdout",
     "output_type": "stream",
     "text": [
      "Confusion Matrix:\n",
      "[[2 0 0 0 0 1]\n",
      " [0 3 0 0 0 0]\n",
      " [0 0 3 0 0 0]\n",
      " [0 0 0 3 0 0]\n",
      " [0 0 0 0 3 0]\n",
      " [0 0 0 0 0 3]]\n",
      "Classification Report:\n",
      "              precision    recall  f1-score   support\n",
      "\n",
      "           A       1.00      0.67      0.80         3\n",
      "          AA       1.00      1.00      1.00         3\n",
      "         AAA       1.00      1.00      1.00         3\n",
      "           B       1.00      1.00      1.00         3\n",
      "          BB       1.00      1.00      1.00         3\n",
      "         BBB       0.75      1.00      0.86         3\n",
      "\n",
      "    accuracy                           0.94        18\n",
      "   macro avg       0.96      0.94      0.94        18\n",
      "weighted avg       0.96      0.94      0.94        18\n",
      "\n",
      "Accuracy: 0.9444444444444444\n"
     ]
    }
   ],
   "source": [
    "from sklearn.metrics import classification_report, confusion_matrix, accuracy_score\n",
    "result = confusion_matrix(training_set[:,0], predict)\n",
    "print(\"Confusion Matrix:\")\n",
    "print(result)\n",
    "result1 = classification_report(training_set[:,0], predict)\n",
    "print(\"Classification Report:\",)\n",
    "print (result1)\n",
    "result2 = accuracy_score(training_set[:,0], predict)\n",
    "print(\"Accuracy:\",result2)"
   ]
  },
  {
   "cell_type": "markdown",
   "metadata": {},
   "source": [
    "The confusion matrix confirms that the classifer assigns the sample test data to the rating classes almost correctly."
   ]
  },
  {
   "cell_type": "markdown",
   "metadata": {},
   "source": [
    "## References\n",
    "https://towardsdatascience.com/knn-in-python-835643e2fb53\n",
    "https://community.wolfram.com/groups/-/m/t/465774"
   ]
  }
 ],
 "metadata": {
  "kernelspec": {
   "display_name": "Python3",
   "language": "python",
   "name": "python3"
  },
  "language_info": {
   "codemirror_mode": {
    "name": "ipython",
    "version": 3
   },
   "file_extension": ".py",
   "mimetype": "text/x-python",
   "name": "python",
   "nbconvert_exporter": "python",
   "pygments_lexer": "ipython3",
   "version": "3.7.1"
  }
 },
 "nbformat": 4,
 "nbformat_minor": 4
}
