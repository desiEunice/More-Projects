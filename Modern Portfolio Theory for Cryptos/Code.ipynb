{
 "cells": [
  {
   "cell_type": "code",
   "execution_count": null,
   "metadata": {},
   "outputs": [],
   "source": [
    "### Import the packages\n",
    "\n",
    "import pandas as pd\n",
    "import numpy as np\n",
    "import matplotlib.pyplot as plt\n",
    "import seaborn as sns\n"
   ]
  },
  {
   "cell_type": "code",
   "execution_count": null,
   "metadata": {},
   "outputs": [],
   "source": [
    "df = pd.read_csv(\"crypto.csv\")\n",
    "df = df.set_index('Date')\n",
    "dff = df.drop([\"DOGE\"], axis = 1)  ## dropping the DogeCoin from dataset\n"
   ]
  },
  {
   "cell_type": "code",
   "execution_count": null,
   "metadata": {},
   "outputs": [],
   "source": [
    "### Computing returns\n",
    "# It is common practice in portfolio optimization to take log of returns for calculations of covariance and \n",
    "# correlation.\n",
    "\n",
    "returns = np.log(dff/dff.shift(1)) \n",
    "returns = returns.dropna()\n",
    "\n",
    "er = returns.describe().loc['mean']  ## expected returns \n",
    "std = returns.describe().loc['std'] ## standard deviations\n",
    "var = std**2  ## variance \n",
    "cov_matrix = returns.cov() ## covariance matrix\n",
    "sns.heatmap(returns.corr(),annot=True, cmap = 'Blues') ## heatmap for correlation matrix \n",
    "\n",
    "\n"
   ]
  },
  {
   "cell_type": "code",
   "execution_count": null,
   "metadata": {},
   "outputs": [],
   "source": [
    "### Plots \n",
    "\n",
    "dff.plot(figsize = (14,7), fontsize=11) ## plotting the prices of assets over time\n",
    "plt.ylabel('Price')\n",
    "plt.show()\n",
    "\n",
    "\n",
    "returns.plot(title = '',figsize = (14,7), fontsize=11)  ## plotting daily returns\n",
    "plt.ylabel('Daily Returns')\n",
    "plt.show()"
   ]
  },
  {
   "cell_type": "code",
   "execution_count": null,
   "metadata": {},
   "outputs": [],
   "source": [
    "### Plotting distribution of returns \n",
    "\n",
    "from scipy.stats import norm\n",
    "mu, std = norm.fit(returns) \n",
    "\n",
    "# Plot the histogram.\n",
    "plt.hist(returns)\n",
    " \n",
    "    \n",
    "# Plot the PDF.\n",
    "xmin, xmax = plt.xlim()\n",
    "x = np.linspace(xmin, xmax, 100)\n",
    "p = norm.pdf(x, mu, std)\n",
    "  \n",
    "plt.plot(x, p, 'k', linewidth=2)\n",
    "title = \"Fit Values: {:.2f} and {:.2f}\".format(mu, std)\n",
    "plt.title(title)\n",
    "  \n",
    "plt.show()\n"
   ]
  },
  {
   "cell_type": "code",
   "execution_count": null,
   "metadata": {},
   "outputs": [],
   "source": [
    "### Data Analysis ###\n",
    "\n",
    "risk_free_rate = 0.0002\n",
    "\n",
    "# empty lists to store returns, volatility and weights of imiginary portfolios\n",
    "port_returns = []\n",
    "port_volatility = []\n",
    "crypto_weights = []\n",
    "sharpe_ratio = []\n",
    "\n",
    "# set the number of combinations for imaginary portfolios\n",
    "num_assets = len(returns.columns)\n",
    "num_portfolios = 10000\n",
    "\n",
    "# populate the empty lists with each portfolios returns,risk and weights\n",
    "for single_portfolio in range(num_portfolios):\n",
    "    weights = np.random.random(num_assets)\n",
    "    weights /= np.sum(weights)\n",
    "    returns1 = np.dot(weights, er) * 365\n",
    "    volatility = np.sqrt(np.dot(weights.T, np.dot(cov_matrix, weights)))* np.sqrt(365)\n",
    "    port_returns.append(returns1)\n",
    "    port_volatility.append(volatility)\n",
    "    crypto_weights.append(weights)\n",
    "    \n",
    "    sharpe = (returns1 - risk_free_rate)/volatility\n",
    "    sharpe_ratio.append(sharpe)\n",
    "\n",
    "# a dictionary for Returns and Risk values of each portfolio\n",
    "portfolio = {'Returns': port_returns,\n",
    "             'Volatility': port_volatility,\n",
    "             'Sharpe Ratio': sharpe_ratio}\n",
    "\n",
    "# extend original dictionary to accomodate each ticker and weight in the portfolio\n",
    "for counter,symbol in enumerate(returns.columns):\n",
    "    portfolio[symbol+' weight'] = [weight[counter] for weight in crypto_weights]\n",
    "    \n",
    "df = pd.DataFrame(portfolio)\n",
    "df.head()"
   ]
  },
  {
   "cell_type": "code",
   "execution_count": null,
   "metadata": {},
   "outputs": [],
   "source": [
    "df['Sharpe Ratio'].argmax()"
   ]
  },
  {
   "cell_type": "code",
   "execution_count": null,
   "metadata": {},
   "outputs": [],
   "source": [
    "df.iloc[df['Sharpe Ratio'].argmax()]['Volatility']"
   ]
  },
  {
   "cell_type": "code",
   "execution_count": null,
   "metadata": {},
   "outputs": [],
   "source": [
    "df.iloc[df['Volatility'].argmax()]['Volatility']"
   ]
  },
  {
   "cell_type": "code",
   "execution_count": null,
   "metadata": {},
   "outputs": [],
   "source": [
    "df.iloc[df['Volatility'].argmin()]['Volatility']"
   ]
  },
  {
   "cell_type": "code",
   "execution_count": null,
   "metadata": {},
   "outputs": [],
   "source": [
    "### Plotting the Efficient Frontier \n",
    "plt.style.use('seaborn')\n",
    "df.plot.scatter(x='Volatility', y='Returns', figsize=(10, 8), grid=True)\n",
    "plt.scatter(x=df.iloc[df['Sharpe Ratio'].argmax()]['Volatility'], y=df.iloc[df['Sharpe Ratio'].argmax()]['Returns'], marker='*', color = 'r',s=150, label='Maximum Sharpe ratio')\n",
    "plt.scatter(x=df.iloc[df['Volatility'].argmin()]['Volatility'], y=df.iloc[df['Volatility'].argmax()]['Returns'], marker='o', color = 'g',s=150, label='Minimum Volatilty')\n",
    "\n",
    "\n",
    "\n",
    "plt.legend()\n",
    "plt.xlabel('Volatility/Standard Deviation')\n",
    "plt.ylabel('Expected Returns')\n",
    "plt.title('Efficient Frontier')\n",
    "plt.show()"
   ]
  },
  {
   "cell_type": "code",
   "execution_count": null,
   "metadata": {},
   "outputs": [],
   "source": [
    "print(\"-\"*80)\n",
    "print(\"Maximum Sharpe Ratio Portfolio Allocation\\n\")\n",
    "print(\"Annualised Return:\", df.iloc[df['Sharpe Ratio'].argmax()]['Returns'])\n",
    "print(\"Annualised Volatility:\", df.iloc[df['Sharpe Ratio'].argmax()]['Volatility'])\n",
    "print(\"\\n\")\n",
    "print(\"Allocation: \\n\\n\",df.iloc[df['Sharpe Ratio'].argmax()][3:])\n",
    "\n",
    "print(\"-\"*80)\n",
    "print(\"Minimum Volatility Portfolio Allocation\\n\")\n",
    "print(\"Annualised Return:\", df.iloc[df['Volatility'].argmin()]['Returns'])\n",
    "print(\"Annualised Volatility:\", df.iloc[df['Volatility'].argmin()]['Volatility'])\n",
    "print(\"\\n\")\n",
    "print(\"Allocation: \\n\\n\",df.iloc[df['Volatility'].argmin()][3:])"
   ]
  },
  {
   "cell_type": "code",
   "execution_count": null,
   "metadata": {},
   "outputs": [],
   "source": []
  }
 ],
 "metadata": {
  "kernelspec": {
   "display_name": "Python3",
   "language": "python",
   "name": "python3"
  },
  "language_info": {
   "codemirror_mode": {
    "name": "ipython",
    "version": 3
   },
   "file_extension": ".py",
   "mimetype": "text/x-python",
   "name": "python",
   "nbconvert_exporter": "python",
   "pygments_lexer": "ipython3",
   "version": "3.7.1"
  }
 },
 "nbformat": 4,
 "nbformat_minor": 4
}
